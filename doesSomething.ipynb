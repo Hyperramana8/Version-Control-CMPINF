{
 "cells": [
  {
   "cell_type": "markdown",
   "metadata": {},
   "source": [
    "Circle Circumference Finder"
   ]
  },
  {
   "cell_type": "code",
   "execution_count": 2,
   "metadata": {},
   "outputs": [
    {
     "name": "stdin",
     "output_type": "stream",
     "text": [
      "What's your name:  zac\n",
      "Give me a radius:  2\n"
     ]
    },
    {
     "name": "stdout",
     "output_type": "stream",
     "text": [
      "The circumference of the circle is 12.566370614359172\n",
      "The area of the circle is 12.566370614359172\n"
     ]
    }
   ],
   "source": [
    "import math\n",
    "name = input(\"What's your name: \")\n",
    "radius = input(\"Give me a radius: \")\n",
    "radius = int(radius)\n",
    "c = radius * math.pi * 2\n",
    "a = math.pi * pow(radius, 2)\n",
    "print(\"The circumference of the circle is \" + str(c))\n",
    "print(\"The area of the circle is \" + str(a))"
   ]
  },
  {
   "cell_type": "code",
   "execution_count": null,
   "metadata": {},
   "outputs": [],
   "source": []
  }
 ],
 "metadata": {
  "kernelspec": {
   "display_name": "Python 3",
   "language": "python",
   "name": "python3"
  },
  "language_info": {
   "codemirror_mode": {
    "name": "ipython",
    "version": 3
   },
   "file_extension": ".py",
   "mimetype": "text/x-python",
   "name": "python",
   "nbconvert_exporter": "python",
   "pygments_lexer": "ipython3",
   "version": "3.8.3"
  }
 },
 "nbformat": 4,
 "nbformat_minor": 4
}
